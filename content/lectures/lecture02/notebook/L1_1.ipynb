{
 "cells": [
  {
   "cell_type": "markdown",
   "metadata": {},
   "source": [
    "## Title : Ex: Polynomial Regression \n",
    "- Goal:  Create cubic polynomial least-squares regression\n",
    "\n",
    "## Description\n",
    "\n",
    "After fitting the model and getting the predictions, you should see the following plot: \n",
    "\n",
    "\n",
    "<img src=\"../fig/fig1.png\" style=\"width: 500px;\">\n",
    "\n",
    "\n",
    "## Hints: \n",
    "\n",
    "<a href=\"https://www.statsmodels.org/v0.10.1/generated/statsmodels.regression.linear_model.OLS.html#statsmodels.regression.linear_model.OLS\" target=\"_blank\">Formulas in statsmodels</a>\n",
    "\n",
    "<a href=\"https://www.statsmodels.org/v0.10.1/generated/statsmodels.regression.linear_model.OLS.html#statsmodels.regression.linear_model.OLS\" target=\"_blank\">sm.ols</a>\n",
    "\n",
    "<a href=\"https://docs.scipy.org/doc/numpy/reference/generated/numpy.vander.html\" target=\"_blank\">numpy vander</a>\n",
    "\n",
    "Refer to lecture notebook.\n",
    "\n",
    "Do not change any other code except the blanks."
   ]
  },
  {
   "cell_type": "code",
   "execution_count": 3,
   "metadata": {},
   "outputs": [],
   "source": [
    "import pandas as pd\n",
    "import numpy as np\n",
    "import matplotlib.pyplot as plt\n",
    "\n",
    "import statsmodels.formula.api as sm\n",
    "\n",
    "%matplotlib inline "
   ]
  },
  {
   "cell_type": "code",
   "execution_count": 9,
   "metadata": {},
   "outputs": [
    {
     "data": {
      "text/html": [
       "<div>\n",
       "<style scoped>\n",
       "    .dataframe tbody tr th:only-of-type {\n",
       "        vertical-align: middle;\n",
       "    }\n",
       "\n",
       "    .dataframe tbody tr th {\n",
       "        vertical-align: top;\n",
       "    }\n",
       "\n",
       "    .dataframe thead th {\n",
       "        text-align: right;\n",
       "    }\n",
       "</style>\n",
       "<table border=\"1\" class=\"dataframe\">\n",
       "  <thead>\n",
       "    <tr style=\"text-align: right;\">\n",
       "      <th></th>\n",
       "      <th>x</th>\n",
       "      <th>y</th>\n",
       "    </tr>\n",
       "  </thead>\n",
       "  <tbody>\n",
       "    <tr>\n",
       "      <th>73</th>\n",
       "      <td>0.006248</td>\n",
       "      <td>17.329551</td>\n",
       "    </tr>\n",
       "    <tr>\n",
       "      <th>142</th>\n",
       "      <td>0.104671</td>\n",
       "      <td>15.268703</td>\n",
       "    </tr>\n",
       "    <tr>\n",
       "      <th>34</th>\n",
       "      <td>0.246137</td>\n",
       "      <td>15.394678</td>\n",
       "    </tr>\n",
       "    <tr>\n",
       "      <th>17</th>\n",
       "      <td>0.420595</td>\n",
       "      <td>12.743181</td>\n",
       "    </tr>\n",
       "    <tr>\n",
       "      <th>5</th>\n",
       "      <td>0.455565</td>\n",
       "      <td>15.480800</td>\n",
       "    </tr>\n",
       "  </tbody>\n",
       "</table>\n",
       "</div>"
      ],
      "text/plain": [
       "            x          y\n",
       "73   0.006248  17.329551\n",
       "142  0.104671  15.268703\n",
       "34   0.246137  15.394678\n",
       "17   0.420595  12.743181\n",
       "5    0.455565  15.480800"
      ]
     },
     "execution_count": 9,
     "metadata": {},
     "output_type": "execute_result"
    }
   ],
   "source": [
    "df = pd.read_csv('C:\\\\Users\\\\u0108068\\\\Documents\\\\GitHub\\\\2021-CS109B\\\\content\\\\lectures\\\\lecture02\\\\data\\\\data1.csv')\n",
    "df = df.sort_values('x')\n",
    "df.head()"
   ]
  },
  {
   "cell_type": "code",
   "execution_count": 8,
   "metadata": {},
   "outputs": [
    {
     "data": {
      "image/png": "[encoded data removed]",
      "text/plain": [
       "<Figure size 432x288 with 1 Axes>"
      ]
     },
     "metadata": {
      "needs_background": "light"
     },
     "output_type": "display_data"
    }
   ],
   "source": [
    "plt.scatter(df.x, df.y);\n",
    "plt.xlabel(\"x\")\n",
    "plt.ylabel(\"y\")\n",
    "plt.show()"
   ]
  },
  {
   "cell_type": "markdown",
   "metadata": {},
   "source": [
    "## Cubic polynomial least-squares regression of y on x"
   ]
  },
  {
   "cell_type": "code",
   "execution_count": 27,
   "metadata": {},
   "outputs": [],
   "source": [
    "### edTest(test_ols_formula) ###\n",
    "def fit_model(formula):\n",
    "    return sm.ols(formula=formula, data=df).fit()\n",
    "\n",
    "formula = \"y ~ x + np.power(x, 2)+ np.power(x, 3)\"\n",
    "fit2_lm = fit_model(formula)"
   ]
  },
  {
   "cell_type": "code",
   "execution_count": 34,
   "metadata": {},
   "outputs": [
    {
     "data": {
      "text/html": [
       "<div>\n",
       "<style scoped>\n",
       "    .dataframe tbody tr th:only-of-type {\n",
       "        vertical-align: middle;\n",
       "    }\n",
       "\n",
       "    .dataframe tbody tr th {\n",
       "        vertical-align: top;\n",
       "    }\n",
       "\n",
       "    .dataframe thead th {\n",
       "        text-align: right;\n",
       "    }\n",
       "</style>\n",
       "<table border=\"1\" class=\"dataframe\">\n",
       "  <thead>\n",
       "    <tr style=\"text-align: right;\">\n",
       "      <th></th>\n",
       "      <th>mean</th>\n",
       "      <th>mean_se</th>\n",
       "      <th>mean_ci_lower</th>\n",
       "      <th>mean_ci_upper</th>\n",
       "      <th>obs_ci_lower</th>\n",
       "      <th>obs_ci_upper</th>\n",
       "    </tr>\n",
       "  </thead>\n",
       "  <tbody>\n",
       "    <tr>\n",
       "      <th>0</th>\n",
       "      <td>17.855013</td>\n",
       "      <td>0.410201</td>\n",
       "      <td>17.047060</td>\n",
       "      <td>18.662966</td>\n",
       "      <td>15.178673</td>\n",
       "      <td>20.531353</td>\n",
       "    </tr>\n",
       "    <tr>\n",
       "      <th>1</th>\n",
       "      <td>16.931066</td>\n",
       "      <td>0.382049</td>\n",
       "      <td>16.178561</td>\n",
       "      <td>17.683571</td>\n",
       "      <td>14.270940</td>\n",
       "      <td>19.591193</td>\n",
       "    </tr>\n",
       "    <tr>\n",
       "      <th>2</th>\n",
       "      <td>15.665031</td>\n",
       "      <td>0.344343</td>\n",
       "      <td>14.986795</td>\n",
       "      <td>16.343268</td>\n",
       "      <td>13.024953</td>\n",
       "      <td>18.305110</td>\n",
       "    </tr>\n",
       "    <tr>\n",
       "      <th>3</th>\n",
       "      <td>14.201966</td>\n",
       "      <td>0.302322</td>\n",
       "      <td>13.606497</td>\n",
       "      <td>14.797436</td>\n",
       "      <td>11.581930</td>\n",
       "      <td>16.822003</td>\n",
       "    </tr>\n",
       "    <tr>\n",
       "      <th>4</th>\n",
       "      <td>13.921482</td>\n",
       "      <td>0.294496</td>\n",
       "      <td>13.341427</td>\n",
       "      <td>14.501536</td>\n",
       "      <td>11.304905</td>\n",
       "      <td>16.538058</td>\n",
       "    </tr>\n",
       "  </tbody>\n",
       "</table>\n",
       "</div>"
      ],
      "text/plain": [
       "        mean   mean_se  mean_ci_lower  mean_ci_upper  obs_ci_lower  \\\n",
       "0  17.855013  0.410201      17.047060      18.662966     15.178673   \n",
       "1  16.931066  0.382049      16.178561      17.683571     14.270940   \n",
       "2  15.665031  0.344343      14.986795      16.343268     13.024953   \n",
       "3  14.201966  0.302322      13.606497      14.797436     11.581930   \n",
       "4  13.921482  0.294496      13.341427      14.501536     11.304905   \n",
       "\n",
       "   obs_ci_upper  \n",
       "0     20.531353  \n",
       "1     19.591193  \n",
       "2     18.305110  \n",
       "3     16.822003  \n",
       "4     16.538058  "
      ]
     },
     "execution_count": 34,
     "metadata": {},
     "output_type": "execute_result"
    }
   ],
   "source": [
    "### edTest(test_predictions_summary) ###\n",
    "#Get the predictions and the summary dataframe\n",
    "xpred = pd.DataFrame({\"x\":df.x})\n",
    "poly_predictions = fit2_lm.get_prediction(xpred).summary_frame()  \n",
    "poly_predictions.head()"
   ]
  },
  {
   "cell_type": "code",
   "execution_count": 38,
   "metadata": {},
   "outputs": [
    {
     "data": {
      "image/png": "[encoded data removed]",
      "text/plain": [
       "<Figure size 432x288 with 1 Axes>"
      ]
     },
     "metadata": {
      "needs_background": "light"
     },
     "output_type": "display_data"
    }
   ],
   "source": [
    "ax2 = df.plot.scatter(x='x',y='y',c='Red',title=\"Data with least-squares cubic fit\")\n",
    "ax2.set_xlabel(\"x\")\n",
    "ax2.set_ylabel(\"y\")\n",
    "\n",
    "# CI for the predection at each x value, i.e. the curve itself\n",
    "ax2.plot(df.x, poly_predictions['mean'],color=\"green\")\n",
    "ax2.plot(df.x, poly_predictions['mean_ci_lower'], color=\"blue\",linestyle=\"dashed\")\n",
    "ax2.plot(df.x, poly_predictions['mean_ci_upper'], color=\"blue\",linestyle=\"dashed\");\n"
   ]
  },
  {
   "cell_type": "markdown",
   "metadata": {},
   "source": [
    "#### Condition number"
   ]
  },
  {
   "cell_type": "code",
   "execution_count": 43,
   "metadata": {},
   "outputs": [
    {
     "data": {
      "text/plain": [
       "167.56956276798064"
      ]
     },
     "execution_count": 43,
     "metadata": {},
     "output_type": "execute_result"
    }
   ],
   "source": [
    "c = np.vander(df.x, 3, increasing=True)\n",
    "np.linalg.cond(c)"
   ]
  },
  {
   "cell_type": "code",
   "execution_count": null,
   "metadata": {},
   "outputs": [],
   "source": []
  }
 ],
 "metadata": {
  "kernelspec": {
   "display_name": "Python 3 (ipykernel)",
   "language": "python",
   "name": "python3"
  },
  "language_info": {
   "codemirror_mode": {
    "name": "ipython",
    "version": 3
   },
   "file_extension": ".py",
   "mimetype": "text/x-python",
   "name": "python",
   "nbconvert_exporter": "python",
   "pygments_lexer": "ipython3",
   "version": "3.9.12"
  }
 },
 "nbformat": 4,
 "nbformat_minor": 2
}
